{
 "cells": [
  {
   "cell_type": "markdown",
   "metadata": {},
   "source": [
    "# Join Statements - Lab\n",
    "\n",
    "## Introduction\n",
    "\n",
    "In this lab, you'll practice your knowledge of join statements, using various types of joins and various methods for specifying the links between them.\n",
    "\n",
    "## Objectives\n",
    "\n",
    "You will be able to:\n",
    "- Write queries that make use of various types of Joins\n",
    "- Join tables using foreign keys"
   ]
  },
  {
   "cell_type": "markdown",
   "metadata": {},
   "source": [
    "## CRM Schema\n",
    "\n",
    "In almost all cases, rather then just working with a single table you will typically need data from multiple tables. \n",
    "Doing this requires the use of **joins ** using shared columns from the two tables. \n",
    "\n",
    "In this lab, you'll use the same Customer Relationship Management (CRM) database that you saw from the previous lesson.\n",
    "<img src='images/Database-Schema.png' width=\"600\">"
   ]
  },
  {
   "cell_type": "markdown",
   "metadata": {},
   "source": [
    "## Connecting to the Database\n",
    "Import the necessary packages and connect to the database **data.sqlite**."
   ]
  },
  {
   "cell_type": "code",
   "execution_count": 1,
   "metadata": {},
   "outputs": [],
   "source": [
    "## instantiate a sql instance on your local computer \n",
    "import sqlite3\n",
    "\n",
    "# we then need to establish a connection object that represent the database\n",
    "conn = sqlite3.connect('data.sqlite')\n",
    "\n",
    "# we then create a cursor that allow us to interact with, and create sql commands\n",
    "c = conn.cursor()"
   ]
  },
  {
   "cell_type": "markdown",
   "metadata": {},
   "source": [
    "## Display the names of all the employees in Boston.\n",
    "Hint: join the employees and customers tables."
   ]
  },
  {
   "cell_type": "code",
   "execution_count": 7,
   "metadata": {},
   "outputs": [
    {
     "data": {
      "text/plain": [
       "[('1002',\n",
       "  'Murphy',\n",
       "  'Diane',\n",
       "  'x5800',\n",
       "  'dmurphy@classicmodelcars.com',\n",
       "  '1',\n",
       "  '',\n",
       "  'President',\n",
       "  '103',\n",
       "  'Atelier graphique',\n",
       "  'Schmitt',\n",
       "  'Carine ',\n",
       "  '40.32.2555',\n",
       "  '54, rue Royale',\n",
       "  '',\n",
       "  'Nantes',\n",
       "  '',\n",
       "  '44000',\n",
       "  'France',\n",
       "  '1370',\n",
       "  '21000.00'),\n",
       " ('1002',\n",
       "  'Murphy',\n",
       "  'Diane',\n",
       "  'x5800',\n",
       "  'dmurphy@classicmodelcars.com',\n",
       "  '1',\n",
       "  '',\n",
       "  'President',\n",
       "  '112',\n",
       "  'Signal Gift Stores',\n",
       "  'King',\n",
       "  'Jean',\n",
       "  '7025551838',\n",
       "  '8489 Strong St.',\n",
       "  '',\n",
       "  'Las Vegas',\n",
       "  'NV',\n",
       "  '83030',\n",
       "  'USA',\n",
       "  '1166',\n",
       "  '71800.00'),\n",
       " ('1002',\n",
       "  'Murphy',\n",
       "  'Diane',\n",
       "  'x5800',\n",
       "  'dmurphy@classicmodelcars.com',\n",
       "  '1',\n",
       "  '',\n",
       "  'President',\n",
       "  '114',\n",
       "  'Australian Collectors, Co.',\n",
       "  'Ferguson',\n",
       "  'Peter',\n",
       "  '03 9520 4555',\n",
       "  '636 St Kilda Road',\n",
       "  'Level 3',\n",
       "  'Melbourne',\n",
       "  'Victoria',\n",
       "  '3004',\n",
       "  'Australia',\n",
       "  '1611',\n",
       "  '117300.00'),\n",
       " ('1002',\n",
       "  'Murphy',\n",
       "  'Diane',\n",
       "  'x5800',\n",
       "  'dmurphy@classicmodelcars.com',\n",
       "  '1',\n",
       "  '',\n",
       "  'President',\n",
       "  '119',\n",
       "  'La Rochelle Gifts',\n",
       "  'Labrune',\n",
       "  'Janine ',\n",
       "  '40.67.8555',\n",
       "  '67, rue des Cinquante Otages',\n",
       "  '',\n",
       "  'Nantes',\n",
       "  '',\n",
       "  '44000',\n",
       "  'France',\n",
       "  '1370',\n",
       "  '118200.00'),\n",
       " ('1002',\n",
       "  'Murphy',\n",
       "  'Diane',\n",
       "  'x5800',\n",
       "  'dmurphy@classicmodelcars.com',\n",
       "  '1',\n",
       "  '',\n",
       "  'President',\n",
       "  '121',\n",
       "  'Baane Mini Imports',\n",
       "  'Bergulfsen',\n",
       "  'Jonas ',\n",
       "  '07-98 9555',\n",
       "  'Erling Skakkes gate 78',\n",
       "  '',\n",
       "  'Stavern',\n",
       "  '',\n",
       "  '4110',\n",
       "  'Norway',\n",
       "  '1504',\n",
       "  '81700.00'),\n",
       " ('1002',\n",
       "  'Murphy',\n",
       "  'Diane',\n",
       "  'x5800',\n",
       "  'dmurphy@classicmodelcars.com',\n",
       "  '1',\n",
       "  '',\n",
       "  'President',\n",
       "  '124',\n",
       "  'Mini Gifts Distributors Ltd.',\n",
       "  'Nelson',\n",
       "  'Susan',\n",
       "  '4155551450',\n",
       "  '5677 Strong St.',\n",
       "  '',\n",
       "  'San Rafael',\n",
       "  'CA',\n",
       "  '97562',\n",
       "  'USA',\n",
       "  '1165',\n",
       "  '210500.00'),\n",
       " ('1002',\n",
       "  'Murphy',\n",
       "  'Diane',\n",
       "  'x5800',\n",
       "  'dmurphy@classicmodelcars.com',\n",
       "  '1',\n",
       "  '',\n",
       "  'President',\n",
       "  '125',\n",
       "  'Havel & Zbyszek Co',\n",
       "  'Piestrzeniewicz',\n",
       "  'Zbyszek ',\n",
       "  '(26) 642-7555',\n",
       "  'ul. Filtrowa 68',\n",
       "  '',\n",
       "  'Warszawa',\n",
       "  '',\n",
       "  '01-012',\n",
       "  'Poland',\n",
       "  '',\n",
       "  '0.00'),\n",
       " ('1002',\n",
       "  'Murphy',\n",
       "  'Diane',\n",
       "  'x5800',\n",
       "  'dmurphy@classicmodelcars.com',\n",
       "  '1',\n",
       "  '',\n",
       "  'President',\n",
       "  '128',\n",
       "  'Blauer See Auto, Co.',\n",
       "  'Keitel',\n",
       "  'Roland',\n",
       "  '+49 69 66 90 2555',\n",
       "  'Lyonerstr. 34',\n",
       "  '',\n",
       "  'Frankfurt',\n",
       "  '',\n",
       "  '60528',\n",
       "  'Germany',\n",
       "  '1504',\n",
       "  '59700.00'),\n",
       " ('1002',\n",
       "  'Murphy',\n",
       "  'Diane',\n",
       "  'x5800',\n",
       "  'dmurphy@classicmodelcars.com',\n",
       "  '1',\n",
       "  '',\n",
       "  'President',\n",
       "  '129',\n",
       "  'Mini Wheels Co.',\n",
       "  'Murphy',\n",
       "  'Julie',\n",
       "  '6505555787',\n",
       "  '5557 North Pendale Street',\n",
       "  '',\n",
       "  'San Francisco',\n",
       "  'CA',\n",
       "  '94217',\n",
       "  'USA',\n",
       "  '1165',\n",
       "  '64600.00'),\n",
       " ('1002',\n",
       "  'Murphy',\n",
       "  'Diane',\n",
       "  'x5800',\n",
       "  'dmurphy@classicmodelcars.com',\n",
       "  '1',\n",
       "  '',\n",
       "  'President',\n",
       "  '131',\n",
       "  'Land of Toys Inc.',\n",
       "  'Lee',\n",
       "  'Kwai',\n",
       "  '2125557818',\n",
       "  '897 Long Airport Avenue',\n",
       "  '',\n",
       "  'NYC',\n",
       "  'NY',\n",
       "  '10022',\n",
       "  'USA',\n",
       "  '1323',\n",
       "  '114900.00')]"
      ]
     },
     "execution_count": 7,
     "metadata": {},
     "output_type": "execute_result"
    }
   ],
   "source": [
    "#Your code hereE JOIN customers c ON ')\n",
    "c.execute(query)\n",
    "c.fetchmany(10)"
   ]
  },
  {
   "cell_type": "markdown",
   "metadata": {},
   "source": [
    "## Do any offices have no employees?\n",
    "Hint: Combine the employees and offices tables and use a group by."
   ]
  },
  {
   "cell_type": "code",
   "execution_count": null,
   "metadata": {},
   "outputs": [],
   "source": [
    "#Your code here"
   ]
  },
  {
   "cell_type": "markdown",
   "metadata": {},
   "source": [
    "## Write 3 Questions of your own and answer them"
   ]
  },
  {
   "cell_type": "code",
   "execution_count": null,
   "metadata": {},
   "outputs": [],
   "source": [
    "# Answers will vary"
   ]
  },
  {
   "cell_type": "code",
   "execution_count": null,
   "metadata": {},
   "outputs": [],
   "source": [
    "# Your code here"
   ]
  },
  {
   "cell_type": "code",
   "execution_count": null,
   "metadata": {},
   "outputs": [],
   "source": [
    "# Your code here"
   ]
  },
  {
   "cell_type": "code",
   "execution_count": null,
   "metadata": {},
   "outputs": [],
   "source": [
    "# Your code here"
   ]
  },
  {
   "cell_type": "markdown",
   "metadata": {},
   "source": [
    "## Level Up: Display the names of each product each employee has sold"
   ]
  },
  {
   "cell_type": "code",
   "execution_count": null,
   "metadata": {},
   "outputs": [],
   "source": [
    "# Your code here"
   ]
  },
  {
   "cell_type": "markdown",
   "metadata": {},
   "source": [
    "## Level Up: Display the Number of Products each employee has sold"
   ]
  },
  {
   "cell_type": "code",
   "execution_count": null,
   "metadata": {},
   "outputs": [],
   "source": [
    "#Your code here"
   ]
  },
  {
   "cell_type": "markdown",
   "metadata": {},
   "source": [
    "## Summary"
   ]
  },
  {
   "cell_type": "markdown",
   "metadata": {},
   "source": [
    "Congrats! You now know how to use join statements, along with leveraging your foreign keys knowledge!"
   ]
  }
 ],
 "metadata": {
  "kernelspec": {
   "display_name": "Python 3",
   "language": "python",
   "name": "python3"
  },
  "language_info": {
   "codemirror_mode": {
    "name": "ipython",
    "version": 3
   },
   "file_extension": ".py",
   "mimetype": "text/x-python",
   "name": "python",
   "nbconvert_exporter": "python",
   "pygments_lexer": "ipython3",
   "version": "3.6.6"
  }
 },
 "nbformat": 4,
 "nbformat_minor": 2
}
