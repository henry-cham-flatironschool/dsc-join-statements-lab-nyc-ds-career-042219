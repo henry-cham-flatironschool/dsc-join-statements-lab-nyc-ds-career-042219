{
 "cells": [
  {
   "cell_type": "markdown",
   "metadata": {},
   "source": [
    "# Join Statements - Lab\n",
    "\n",
    "## Introduction\n",
    "\n",
    "In this lab, you'll practice your knowledge of join statements, using various types of joins and various methods for specifying the links between them.\n",
    "\n",
    "## Objectives\n",
    "\n",
    "You will be able to:\n",
    "- Write queries that make use of various types of Joins\n",
    "- Join tables using foreign keys"
   ]
  },
  {
   "cell_type": "markdown",
   "metadata": {},
   "source": [
    "## CRM Schema\n",
    "\n",
    "In almost all cases, rather then just working with a single table you will typically need data from multiple tables. \n",
    "Doing this requires the use of **joins ** using shared columns from the two tables. \n",
    "\n",
    "In this lab, you'll use the same Customer Relationship Management (CRM) database that you saw from the previous lesson.\n",
    "<img src='images/Database-Schema.png' width=\"600\">"
   ]
  },
  {
   "cell_type": "markdown",
   "metadata": {},
   "source": [
    "## Connecting to the Database\n",
    "Import the necessary packages and connect to the database **data.sqlite**."
   ]
  },
  {
   "cell_type": "code",
   "execution_count": 1,
   "metadata": {},
   "outputs": [],
   "source": [
    "## instantiate a sql instance on your local computer \n",
    "import sqlite3\n",
    "\n",
    "# we then need to establish a connection object that represent the database\n",
    "conn = sqlite3.connect('data.sqlite')\n",
    "\n",
    "# we then create a cursor that allow us to interact with, and create sql commands\n",
    "c = conn.cursor()"
   ]
  },
  {
   "cell_type": "markdown",
   "metadata": {},
   "source": [
    "## Display the names of all the employees in Boston.\n",
    "Hint: join the employees and customers tables."
   ]
  },
  {
   "cell_type": "code",
   "execution_count": 8,
   "metadata": {},
   "outputs": [
    {
     "data": {
      "text/plain": [
       "[('1165',\n",
       "  'Jennings',\n",
       "  'Leslie',\n",
       "  'x3291',\n",
       "  'ljennings@classicmodelcars.com',\n",
       "  '1',\n",
       "  '1143',\n",
       "  'Sales Rep',\n",
       "  '124',\n",
       "  'Mini Gifts Distributors Ltd.',\n",
       "  'Nelson',\n",
       "  'Susan',\n",
       "  '4155551450',\n",
       "  '5677 Strong St.',\n",
       "  '',\n",
       "  'San Rafael',\n",
       "  'CA',\n",
       "  '97562',\n",
       "  'USA',\n",
       "  '1165',\n",
       "  '210500.00'),\n",
       " ('1165',\n",
       "  'Jennings',\n",
       "  'Leslie',\n",
       "  'x3291',\n",
       "  'ljennings@classicmodelcars.com',\n",
       "  '1',\n",
       "  '1143',\n",
       "  'Sales Rep',\n",
       "  '129',\n",
       "  'Mini Wheels Co.',\n",
       "  'Murphy',\n",
       "  'Julie',\n",
       "  '6505555787',\n",
       "  '5557 North Pendale Street',\n",
       "  '',\n",
       "  'San Francisco',\n",
       "  'CA',\n",
       "  '94217',\n",
       "  'USA',\n",
       "  '1165',\n",
       "  '64600.00'),\n",
       " ('1165',\n",
       "  'Jennings',\n",
       "  'Leslie',\n",
       "  'x3291',\n",
       "  'ljennings@classicmodelcars.com',\n",
       "  '1',\n",
       "  '1143',\n",
       "  'Sales Rep',\n",
       "  '161',\n",
       "  'Technics Stores Inc.',\n",
       "  'Hashimoto',\n",
       "  'Juri',\n",
       "  '6505556809',\n",
       "  '9408 Furth Circle',\n",
       "  '',\n",
       "  'Burlingame',\n",
       "  'CA',\n",
       "  '94217',\n",
       "  'USA',\n",
       "  '1165',\n",
       "  '84600.00'),\n",
       " ('1165',\n",
       "  'Jennings',\n",
       "  'Leslie',\n",
       "  'x3291',\n",
       "  'ljennings@classicmodelcars.com',\n",
       "  '1',\n",
       "  '1143',\n",
       "  'Sales Rep',\n",
       "  '321',\n",
       "  'Corporate Gift Ideas Co.',\n",
       "  'Brown',\n",
       "  'Julie',\n",
       "  '6505551386',\n",
       "  '7734 Strong St.',\n",
       "  '',\n",
       "  'San Francisco',\n",
       "  'CA',\n",
       "  '94217',\n",
       "  'USA',\n",
       "  '1165',\n",
       "  '105000.00'),\n",
       " ('1165',\n",
       "  'Jennings',\n",
       "  'Leslie',\n",
       "  'x3291',\n",
       "  'ljennings@classicmodelcars.com',\n",
       "  '1',\n",
       "  '1143',\n",
       "  'Sales Rep',\n",
       "  '450',\n",
       "  'The Sharp Gifts Warehouse',\n",
       "  'Frick',\n",
       "  'Sue',\n",
       "  '4085553659',\n",
       "  '3086 Ingle Ln.',\n",
       "  '',\n",
       "  'San Jose',\n",
       "  'CA',\n",
       "  '94217',\n",
       "  'USA',\n",
       "  '1165',\n",
       "  '77600.00'),\n",
       " ('1165',\n",
       "  'Jennings',\n",
       "  'Leslie',\n",
       "  'x3291',\n",
       "  'ljennings@classicmodelcars.com',\n",
       "  '1',\n",
       "  '1143',\n",
       "  'Sales Rep',\n",
       "  '487',\n",
       "  'Signal Collectibles Ltd.',\n",
       "  'Taylor',\n",
       "  'Sue',\n",
       "  '4155554312',\n",
       "  '2793 Furth Circle',\n",
       "  '',\n",
       "  'Brisbane',\n",
       "  'CA',\n",
       "  '94217',\n",
       "  'USA',\n",
       "  '1165',\n",
       "  '60300.00'),\n",
       " ('1166',\n",
       "  'Thompson',\n",
       "  'Leslie',\n",
       "  'x4065',\n",
       "  'lthompson@classicmodelcars.com',\n",
       "  '1',\n",
       "  '1143',\n",
       "  'Sales Rep',\n",
       "  '112',\n",
       "  'Signal Gift Stores',\n",
       "  'King',\n",
       "  'Jean',\n",
       "  '7025551838',\n",
       "  '8489 Strong St.',\n",
       "  '',\n",
       "  'Las Vegas',\n",
       "  'NV',\n",
       "  '83030',\n",
       "  'USA',\n",
       "  '1166',\n",
       "  '71800.00'),\n",
       " ('1166',\n",
       "  'Thompson',\n",
       "  'Leslie',\n",
       "  'x4065',\n",
       "  'lthompson@classicmodelcars.com',\n",
       "  '1',\n",
       "  '1143',\n",
       "  'Sales Rep',\n",
       "  '205',\n",
       "  'Toys4GrownUps.com',\n",
       "  'Young',\n",
       "  'Julie',\n",
       "  '6265557265',\n",
       "  '78934 Hillside Dr.',\n",
       "  '',\n",
       "  'Pasadena',\n",
       "  'CA',\n",
       "  '90003',\n",
       "  'USA',\n",
       "  '1166',\n",
       "  '90700.00'),\n",
       " ('1166',\n",
       "  'Thompson',\n",
       "  'Leslie',\n",
       "  'x4065',\n",
       "  'lthompson@classicmodelcars.com',\n",
       "  '1',\n",
       "  '1143',\n",
       "  'Sales Rep',\n",
       "  '219',\n",
       "  'Boards & Toys Co.',\n",
       "  'Young',\n",
       "  'Mary',\n",
       "  '3105552373',\n",
       "  '4097 Douglas Av.',\n",
       "  '',\n",
       "  'Glendale',\n",
       "  'CA',\n",
       "  '92561',\n",
       "  'USA',\n",
       "  '1166',\n",
       "  '11000.00'),\n",
       " ('1166',\n",
       "  'Thompson',\n",
       "  'Leslie',\n",
       "  'x4065',\n",
       "  'lthompson@classicmodelcars.com',\n",
       "  '1',\n",
       "  '1143',\n",
       "  'Sales Rep',\n",
       "  '239',\n",
       "  'Collectable Mini Designs Co.',\n",
       "  'Thompson',\n",
       "  'Valarie',\n",
       "  '7605558146',\n",
       "  '361 Furth Circle',\n",
       "  '',\n",
       "  'San Diego',\n",
       "  'CA',\n",
       "  '91217',\n",
       "  'USA',\n",
       "  '1166',\n",
       "  '105000.00')]"
      ]
     },
     "execution_count": 8,
     "metadata": {},
     "output_type": "execute_result"
    }
   ],
   "source": [
    "#Your code here\n",
    "query = ('SELECT E.lastName,E.FirstName,\n",
    "         'FROM employees E'\n",
    "         'JOIN customers C ON'\n",
    "         'E.employeeNumber = C.salesRepEmployeeNumber'\n",
    "        )\n",
    "c.execute(query)\n",
    "c.fetchmany(10)"
   ]
  },
  {
   "cell_type": "markdown",
   "metadata": {},
   "source": [
    "## Do any offices have no employees?\n",
    "Hint: Combine the employees and offices tables and use a group by."
   ]
  },
  {
   "cell_type": "code",
   "execution_count": null,
   "metadata": {},
   "outputs": [],
   "source": [
    "#Your code here"
   ]
  },
  {
   "cell_type": "markdown",
   "metadata": {},
   "source": [
    "## Write 3 Questions of your own and answer them"
   ]
  },
  {
   "cell_type": "code",
   "execution_count": null,
   "metadata": {},
   "outputs": [],
   "source": [
    "# Answers will vary"
   ]
  },
  {
   "cell_type": "code",
   "execution_count": null,
   "metadata": {},
   "outputs": [],
   "source": [
    "# Your code here"
   ]
  },
  {
   "cell_type": "code",
   "execution_count": null,
   "metadata": {},
   "outputs": [],
   "source": [
    "# Your code here"
   ]
  },
  {
   "cell_type": "code",
   "execution_count": null,
   "metadata": {},
   "outputs": [],
   "source": [
    "# Your code here"
   ]
  },
  {
   "cell_type": "markdown",
   "metadata": {},
   "source": [
    "## Level Up: Display the names of each product each employee has sold"
   ]
  },
  {
   "cell_type": "code",
   "execution_count": null,
   "metadata": {},
   "outputs": [],
   "source": [
    "# Your code here"
   ]
  },
  {
   "cell_type": "markdown",
   "metadata": {},
   "source": [
    "## Level Up: Display the Number of Products each employee has sold"
   ]
  },
  {
   "cell_type": "code",
   "execution_count": null,
   "metadata": {},
   "outputs": [],
   "source": [
    "#Your code here"
   ]
  },
  {
   "cell_type": "markdown",
   "metadata": {},
   "source": [
    "## Summary"
   ]
  },
  {
   "cell_type": "markdown",
   "metadata": {},
   "source": [
    "Congrats! You now know how to use join statements, along with leveraging your foreign keys knowledge!"
   ]
  }
 ],
 "metadata": {
  "kernelspec": {
   "display_name": "Python 3",
   "language": "python",
   "name": "python3"
  },
  "language_info": {
   "codemirror_mode": {
    "name": "ipython",
    "version": 3
   },
   "file_extension": ".py",
   "mimetype": "text/x-python",
   "name": "python",
   "nbconvert_exporter": "python",
   "pygments_lexer": "ipython3",
   "version": "3.6.6"
  }
 },
 "nbformat": 4,
 "nbformat_minor": 2
}
